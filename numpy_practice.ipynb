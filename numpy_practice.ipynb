{
 "cells": [
  {
   "cell_type": "code",
   "id": "initial_id",
   "metadata": {
    "collapsed": true,
    "ExecuteTime": {
     "end_time": "2025-02-04T13:10:53.919124Z",
     "start_time": "2025-02-04T13:10:52.807058Z"
    }
   },
   "source": "import numpy as np",
   "outputs": [],
   "execution_count": 1
  },
  {
   "metadata": {},
   "cell_type": "markdown",
   "source": [
    "**Creating NumPy arrays**\n",
    "\n",
    "*1D array(vector)*"
   ],
   "id": "c8c5f4ce802b9dfd"
  },
  {
   "metadata": {
    "ExecuteTime": {
     "end_time": "2025-02-04T13:13:08.363713Z",
     "start_time": "2025-02-04T13:13:08.349073Z"
    }
   },
   "cell_type": "code",
   "source": [
    "arr = np.array([1,2,3,4,5])\n",
    "print(arr)"
   ],
   "id": "604d5b810fe71c38",
   "outputs": [
    {
     "name": "stdout",
     "output_type": "stream",
     "text": [
      "[1 2 3 4 5]\n"
     ]
    }
   ],
   "execution_count": 2
  },
  {
   "metadata": {},
   "cell_type": "markdown",
   "source": "*2D array(Matrix)*",
   "id": "7bcf3c4dfc4d3111"
  },
  {
   "metadata": {
    "ExecuteTime": {
     "end_time": "2025-02-04T13:14:26.290709Z",
     "start_time": "2025-02-04T13:14:26.272809Z"
    }
   },
   "cell_type": "code",
   "source": [
    "mat = np.array([[1,2,3,],\n",
    "                [4,5,6]])\n",
    "print(mat)"
   ],
   "id": "290d0384bcc313c6",
   "outputs": [
    {
     "name": "stdout",
     "output_type": "stream",
     "text": [
      "[[1 2 3]\n",
      " [4 5 6]]\n"
     ]
    }
   ],
   "execution_count": 3
  },
  {
   "metadata": {},
   "cell_type": "markdown",
   "source": "*3D array(Tensor)*",
   "id": "e02fecd543c9d367"
  },
  {
   "metadata": {
    "ExecuteTime": {
     "end_time": "2025-02-04T13:17:05.161104Z",
     "start_time": "2025-02-04T13:17:05.153948Z"
    }
   },
   "cell_type": "code",
   "source": [
    "tensor = np.array([[[1,2],[3,4],[5,6],[7,8]]])\n",
    "print(tensor)"
   ],
   "id": "259f95a861b9f26e",
   "outputs": [
    {
     "name": "stdout",
     "output_type": "stream",
     "text": [
      "[[[1 2]\n",
      "  [3 4]\n",
      "  [5 6]\n",
      "  [7 8]]]\n"
     ]
    }
   ],
   "execution_count": 5
  },
  {
   "metadata": {},
   "cell_type": "markdown",
   "source": "**Array Attributes**",
   "id": "d1b3e964d1827654"
  },
  {
   "metadata": {
    "ExecuteTime": {
     "end_time": "2025-02-04T13:22:55.013892Z",
     "start_time": "2025-02-04T13:22:54.993072Z"
    }
   },
   "cell_type": "code",
   "source": [
    "print(arr.shape) # (5,) -> Shape of the array\n",
    "print(mat.shape) # (2,3) -> 2 rows, 3 columns\n",
    "print(tensor.shape) # 1 → Represents one outermost array (i.e., one batch or sample). it is a 3D array.\n",
    "print(arr.ndim) # Number of dimensions\n",
    "print(mat.ndim) # 2 dimensions\n",
    "print(arr.size) # Total number of elements\n",
    "print(arr.dtype) # Data type of elements"
   ],
   "id": "966feff8a1b5f311",
   "outputs": [
    {
     "name": "stdout",
     "output_type": "stream",
     "text": [
      "(5,)\n",
      "(2, 3)\n",
      "(1, 4, 2)\n",
      "1\n",
      "2\n",
      "5\n",
      "int64\n"
     ]
    }
   ],
   "execution_count": 7
  },
  {
   "metadata": {},
   "cell_type": "markdown",
   "source": [
    "**Array Operations**\n",
    "\n",
    "*Basic math operations*"
   ],
   "id": "e4d5f3cbfb17a201"
  },
  {
   "metadata": {
    "ExecuteTime": {
     "end_time": "2025-02-04T13:31:13.376843Z",
     "start_time": "2025-02-04T13:31:13.319075Z"
    }
   },
   "cell_type": "code",
   "source": [
    "a = np.array([10,20,30])\n",
    "b = np.array([1,2,3])\n",
    "\n",
    "print(a+b) # addition\n",
    "print(a-b) # subtraction\n",
    "print(a*b) # multiplication\n",
    "print(a/b) # division\n",
    "print(a**2) # squaring"
   ],
   "id": "b5ed5007860bf4db",
   "outputs": [
    {
     "name": "stdout",
     "output_type": "stream",
     "text": [
      "[11 22 33]\n",
      "[ 9 18 27]\n",
      "[10 40 90]\n",
      "[10. 10. 10.]\n",
      "[100 400 900]\n"
     ]
    }
   ],
   "execution_count": 8
  },
  {
   "metadata": {},
   "cell_type": "markdown",
   "source": "*statistical functions*",
   "id": "815e8380ece27e44"
  },
  {
   "metadata": {
    "ExecuteTime": {
     "end_time": "2025-02-04T13:49:41.446665Z",
     "start_time": "2025-02-04T13:49:41.366417Z"
    }
   },
   "cell_type": "code",
   "source": [
    "print(np.mean(a)) # Mean\n",
    "print(np.median(a)) # Median\n",
    "print(np.std(a)) # standard deviation\n",
    "print(np.sum(a)) # sum of elements\n",
    "print(np.max(a)) # maximum value\n",
    "print(np.min(a)) # minimum value"
   ],
   "id": "a817fa200163dbfd",
   "outputs": [
    {
     "name": "stdout",
     "output_type": "stream",
     "text": [
      "20.0\n",
      "20.0\n",
      "8.16496580927726\n",
      "60\n",
      "30\n",
      "10\n"
     ]
    }
   ],
   "execution_count": 9
  },
  {
   "metadata": {},
   "cell_type": "markdown",
   "source": "**Creating Special Arrays**",
   "id": "3c0566c3f0872219"
  },
  {
   "metadata": {
    "ExecuteTime": {
     "end_time": "2025-02-04T14:05:00.433744Z",
     "start_time": "2025-02-04T14:05:00.410137Z"
    }
   },
   "cell_type": "code",
   "source": [
    "zeros = np.zeros((3,3)) # 3x3 array of zeros\n",
    "print(zeros)\n",
    "ones = np.ones((2,4)) # 2x4 array of ones\n",
    "print(ones)\n",
    "identity = np.eye(3) # 3x3 identity matrix\n",
    "print(identity)\n",
    "range_array = np.arange(0,10,2) # array from 0 to 10 with step 2\n",
    "print(range_array)\n",
    "random = np.random.rand(3,3) # 3x3 Array of Random values between 0 and 1\n",
    "print(random)\n",
    "linspace = np.linspace(0,1,5) # 5 evenly spaced numbers from 0 to 1\n",
    "print(linspace)"
   ],
   "id": "f838b17c5448834e",
   "outputs": [
    {
     "name": "stdout",
     "output_type": "stream",
     "text": [
      "[[0. 0. 0.]\n",
      " [0. 0. 0.]\n",
      " [0. 0. 0.]]\n",
      "[[1. 1. 1. 1.]\n",
      " [1. 1. 1. 1.]]\n",
      "[[1. 0. 0.]\n",
      " [0. 1. 0.]\n",
      " [0. 0. 1.]]\n",
      "[0 2 4 6 8]\n",
      "[[0.46928404 0.75635929 0.2191957 ]\n",
      " [0.39096777 0.80752518 0.66151077]\n",
      " [0.99170096 0.08529199 0.46856144]]\n",
      "[0.   0.25 0.5  0.75 1.  ]\n"
     ]
    }
   ],
   "execution_count": 11
  },
  {
   "metadata": {},
   "cell_type": "markdown",
   "source": "*more statistics*",
   "id": "34381e88eddf453"
  },
  {
   "metadata": {
    "ExecuteTime": {
     "end_time": "2025-02-04T14:09:12.759389Z",
     "start_time": "2025-02-04T14:09:12.746957Z"
    }
   },
   "cell_type": "code",
   "source": [
    "sample_array = np.array([[1,2,3],\n",
    "                         [4,5,6],\n",
    "                         [7,8,9]])"
   ],
   "id": "44689e941c57a8f8",
   "outputs": [],
   "execution_count": 12
  },
  {
   "metadata": {
    "ExecuteTime": {
     "end_time": "2025-02-04T14:11:00.918442Z",
     "start_time": "2025-02-04T14:11:00.897208Z"
    }
   },
   "cell_type": "code",
   "source": [
    "mean_all = np.mean(sample_array)\n",
    "print(mean_all)\n",
    "mean_columns = np.mean(sample_array, axis = 0)\n",
    "print(mean_columns)\n",
    "mean_rows = np.mean(sample_array, axis=1)\n",
    "print(mean_rows)"
   ],
   "id": "b7076bcd7d5546d2",
   "outputs": [
    {
     "name": "stdout",
     "output_type": "stream",
     "text": [
      "5.0\n",
      "[4. 5. 6.]\n",
      "[2. 5. 8.]\n"
     ]
    }
   ],
   "execution_count": 13
  },
  {
   "metadata": {},
   "cell_type": "markdown",
   "source": "**Reshaping and Transposing**",
   "id": "99972e94cb96d2d0"
  },
  {
   "metadata": {
    "ExecuteTime": {
     "end_time": "2025-02-04T14:20:51.715852Z",
     "start_time": "2025-02-04T14:20:51.696898Z"
    }
   },
   "cell_type": "code",
   "source": [
    "original = np.array([1,2,3,4,5,6])\n",
    "print(original)\n",
    "reshaped = original.reshape(2,3)\n",
    "print(reshaped)\n",
    "transposed = reshaped.T\n",
    "print(transposed)"
   ],
   "id": "ae5d1710191ad088",
   "outputs": [
    {
     "name": "stdout",
     "output_type": "stream",
     "text": [
      "[1 2 3 4 5 6]\n",
      "[[1 2 3]\n",
      " [4 5 6]]\n",
      "[[1 4]\n",
      " [2 5]\n",
      " [3 6]]\n"
     ]
    }
   ],
   "execution_count": 15
  },
  {
   "metadata": {},
   "cell_type": "markdown",
   "source": "**Array indexing and slicing**",
   "id": "9520af12d0d21f78"
  },
  {
   "metadata": {
    "ExecuteTime": {
     "end_time": "2025-02-04T14:22:10.944339Z",
     "start_time": "2025-02-04T14:22:10.935085Z"
    }
   },
   "cell_type": "code",
   "source": [
    "arr = np.array([[1,2,3],\n",
    "                [4,5,6],\n",
    "                [7,8,9]])\n",
    "print(arr)"
   ],
   "id": "37a6d6996350c557",
   "outputs": [
    {
     "name": "stdout",
     "output_type": "stream",
     "text": [
      "[[1 2 3]\n",
      " [4 5 6]\n",
      " [7 8 9]]\n"
     ]
    }
   ],
   "execution_count": 16
  },
  {
   "metadata": {
    "ExecuteTime": {
     "end_time": "2025-02-04T15:42:08.933099Z",
     "start_time": "2025-02-04T15:42:08.916563Z"
    }
   },
   "cell_type": "code",
   "source": [
    "sprint(arr[1,1]) # accessing element at 1st row and 1st column\n",
    "print(arr[0,:]) # accessing first row\n",
    "print(arr[:,0]) # accessing first column\n",
    "print(arr[:,1]) # accessing second column\n",
    "print(arr[0:2, 1:3]) # accessing (0:2) 0 to 2 rows but not including 2 and (1:3) 1 to 3 columns not including 3 so this accesses elements at 0,1 row and 1,2 column and prints the new subarray of those elements.\n",
    "diagonal = [arr[i, i] for i in range(arr.shape[0])] # accessing diagonal elements((arr.shape[0]) gives the number of rows in matrix)\n",
    "print(diagonal)\n",
    "print(np.diagonal(arr)) # another way of accessing diagonal elements\n"
   ],
   "id": "2c60e311bd4c70dd",
   "outputs": [
    {
     "name": "stdout",
     "output_type": "stream",
     "text": [
      "5\n",
      "[1 2 3]\n",
      "[1 4 7]\n",
      "[2 5 8]\n",
      "[[2 3]\n",
      " [5 6]]\n",
      "[np.int64(1), np.int64(5), np.int64(9)]\n",
      "[1 5 9]\n"
     ]
    }
   ],
   "execution_count": 39
  },
  {
   "metadata": {
    "ExecuteTime": {
     "end_time": "2025-02-04T14:39:21.477568Z",
     "start_time": "2025-02-04T14:39:21.454519Z"
    }
   },
   "cell_type": "code",
   "source": [
    "arr_2x3 = np.array([[1,2,3],\n",
    "                    [4,5,6]])\n",
    "print(\"2x3 array:\\n\",arr_2x3)\n",
    "print(\"sum of rows:\\n\",np.sum(arr_2x3, axis = 1))\n",
    "print(\"sum of columns:\\n\",np.sum(arr_2x3, axis = 0))"
   ],
   "id": "d7e42ab4aa5b940c",
   "outputs": [
    {
     "name": "stdout",
     "output_type": "stream",
     "text": [
      "2x3 array:\n",
      " [[1 2 3]\n",
      " [4 5 6]]\n",
      "sum of rows:\n",
      " [ 6 15]\n",
      "sum of columns:\n",
      " [5 7 9]\n"
     ]
    }
   ],
   "execution_count": 21
  },
  {
   "metadata": {
    "ExecuteTime": {
     "end_time": "2025-02-04T15:01:21.046662Z",
     "start_time": "2025-02-04T15:01:20.992689Z"
    }
   },
   "cell_type": "code",
   "source": [
    "#Random 3x3 array of numbers from 1 to 11\n",
    "random_arr = np.random.randint(1,11, size=(3,3))\n",
    "print(random_arr)\n",
    "max_column = np.max(random_arr, axis = 0)\n",
    "print(\"maximum element in each column:\\n\",max_column)\n",
    "std_dev = np.std(random_arr)\n",
    "print(\"standard deviation:\\n\",std_dev)\n"
   ],
   "id": "dee164a386689403",
   "outputs": [
    {
     "name": "stdout",
     "output_type": "stream",
     "text": [
      "[[ 6  9  3]\n",
      " [10  2  2]\n",
      " [ 8  1  6]]\n",
      "maximum element in each column:\n",
      " [10  9  6]\n",
      "standard deviation:\n",
      " 3.154459903684087\n"
     ]
    }
   ],
   "execution_count": 22
  },
  {
   "metadata": {
    "ExecuteTime": {
     "end_time": "2025-02-04T15:09:10.521501Z",
     "start_time": "2025-02-04T15:09:10.503880Z"
    }
   },
   "cell_type": "code",
   "source": [
    "#random 4x4 array of integers from 0 to 100\n",
    "random_4x4 = np.random.randint(0,100, size = (4,4))\n",
    "print(random_4x4)\n",
    "#normalized array with values between 0 and 1\n",
    "normalized = (random_4x4 - random_4x4.min())/(random_4x4.max() - random_4x4.min())\n",
    "print(normalized)\n",
    "#printing indices of numbers with values greater than 0.5\n",
    "indices = np.where(normalized > 0.5)\n",
    "print(indices)\n",
    "#printing numbers with values greater than 0.5\n",
    "print(normalized[indices])"
   ],
   "id": "252a596c01aaa5fe",
   "outputs": [
    {
     "name": "stdout",
     "output_type": "stream",
     "text": [
      "[[97 79 35 45]\n",
      " [18 17 60 58]\n",
      " [28 33 67 46]\n",
      " [40 70 65  6]]\n",
      "[[1.         0.8021978  0.31868132 0.42857143]\n",
      " [0.13186813 0.12087912 0.59340659 0.57142857]\n",
      " [0.24175824 0.2967033  0.67032967 0.43956044]\n",
      " [0.37362637 0.7032967  0.64835165 0.        ]]\n",
      "(array([0, 0, 1, 1, 2, 3, 3]), array([0, 1, 2, 3, 2, 1, 2]))\n",
      "[1.         0.8021978  0.59340659 0.57142857 0.67032967 0.7032967\n",
      " 0.64835165]\n"
     ]
    }
   ],
   "execution_count": 24
  },
  {
   "metadata": {
    "ExecuteTime": {
     "end_time": "2025-02-04T15:14:28.135715Z",
     "start_time": "2025-02-04T15:14:28.124733Z"
    }
   },
   "cell_type": "code",
   "source": [
    "#random 3x3 array of numbers between 0 and 1\n",
    "random_3x3 = np.random.random((3,3))\n",
    "print(random_3x3)\n",
    "#rounding elements upto 2 decimal places\n",
    "round = np.round(random_3x3, 2)\n",
    "print(round)\n",
    "#replacing elements less than 0.5 with 0\n",
    "round[round < 0.5] = 0\n",
    "print(round)"
   ],
   "id": "3653752fdb4481a0",
   "outputs": [
    {
     "name": "stdout",
     "output_type": "stream",
     "text": [
      "[[0.8312802  0.13134362 0.04506093]\n",
      " [0.04630392 0.33272401 0.44806772]\n",
      " [0.69370653 0.17849861 0.12761509]]\n",
      "[[0.83 0.13 0.05]\n",
      " [0.05 0.33 0.45]\n",
      " [0.69 0.18 0.13]]\n",
      "[[0.83 0.   0.  ]\n",
      " [0.   0.   0.  ]\n",
      " [0.69 0.   0.  ]]\n"
     ]
    }
   ],
   "execution_count": 26
  },
  {
   "metadata": {
    "ExecuteTime": {
     "end_time": "2025-02-04T15:24:21.018127Z",
     "start_time": "2025-02-04T15:24:21.004330Z"
    }
   },
   "cell_type": "code",
   "source": [
    "#random 5x5 array with elements from 0 to 20\n",
    "random_5x5 = np.random.randint(0,20, size=(5,5))\n",
    "print(random_5x5)\n",
    "even = np.count_nonzero(random_5x5 % 2 == 0)\n",
    "print(\"count of even numbers in array:\",even)"
   ],
   "id": "4ee53a79f07d930f",
   "outputs": [
    {
     "name": "stdout",
     "output_type": "stream",
     "text": [
      "[[13  7 10 19  3]\n",
      " [ 9 10 18 19  4]\n",
      " [15 18  5  7 14]\n",
      " [ 9 17 15  1 11]\n",
      " [ 1 19  0 13  9]]\n",
      "count of even numbers in array: 7\n"
     ]
    }
   ],
   "execution_count": 36
  }
 ],
 "metadata": {
  "kernelspec": {
   "display_name": "Python 3",
   "language": "python",
   "name": "python3"
  },
  "language_info": {
   "codemirror_mode": {
    "name": "ipython",
    "version": 2
   },
   "file_extension": ".py",
   "mimetype": "text/x-python",
   "name": "python",
   "nbconvert_exporter": "python",
   "pygments_lexer": "ipython2",
   "version": "2.7.6"
  }
 },
 "nbformat": 4,
 "nbformat_minor": 5
}
