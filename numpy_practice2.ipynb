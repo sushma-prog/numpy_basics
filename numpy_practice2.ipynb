{
 "cells": [
  {
   "metadata": {},
   "cell_type": "markdown",
   "source": "**Array Indexing and Slicing**",
   "id": "1aeb5d478dd765d1"
  },
  {
   "metadata": {
    "ExecuteTime": {
     "end_time": "2025-02-05T12:49:53.408151Z",
     "start_time": "2025-02-05T12:49:52.459392Z"
    }
   },
   "cell_type": "code",
   "source": "import numpy as np",
   "id": "97621f0cfbfffc28",
   "outputs": [],
   "execution_count": 1
  },
  {
   "metadata": {
    "ExecuteTime": {
     "end_time": "2025-02-05T12:57:31.433011Z",
     "start_time": "2025-02-05T12:57:31.422566Z"
    }
   },
   "cell_type": "code",
   "source": [
    "# Creating a sample array\n",
    "arr = np.array([10,20,30,40,50,60])\n",
    "\n",
    "# Indexing (Extracting elements)\n",
    "print(arr[0]) # First element\n",
    "print(arr[-1]) # Last element\n",
    "print(arr[2]) # Third element\n",
    "\n",
    "# Slicing (Extracting subarrays)\n",
    "print(arr[1:4]) # Elements from index 1 to 3\n",
    "print(arr[:3]) # First three elements with index from 0 to 2\n",
    "print(arr[2:]) # Elements from index 2 to end\n",
    "print(arr[::2]) # Every second element\n",
    "\n",
    "# Modifying elements\n",
    "arr[1] = 99\n",
    "print(arr) # Updated array"
   ],
   "id": "bc67cd7dbd2d61a4",
   "outputs": [
    {
     "name": "stdout",
     "output_type": "stream",
     "text": [
      "10\n",
      "60\n",
      "30\n",
      "[20 30 40]\n",
      "[10 20 30]\n",
      "[30 40 50 60]\n",
      "[10 30 50]\n",
      "[10 99 30 40 50 60]\n"
     ]
    }
   ],
   "execution_count": 4
  },
  {
   "metadata": {},
   "cell_type": "markdown",
   "source": "**Boolean Indexing and Fancy Indexing**",
   "id": "4bf9bbbe77b8c2c4"
  },
  {
   "metadata": {
    "ExecuteTime": {
     "end_time": "2025-02-05T13:05:10.206070Z",
     "start_time": "2025-02-05T13:05:10.184544Z"
    }
   },
   "cell_type": "code",
   "source": [
    "arr = np.array([10, 20, 30, 40, 50, 60])\n",
    "\n",
    "# Boolean indexing (Filter elements based on condition)\n",
    "print(arr[arr > 30]) #Elements greater than 30\n",
    "print(arr[arr % 20 == 0]) # Elements that are multiples of 20\n",
    "\n",
    "# Fancy Indexing (Extract elements using a list of indices)\n",
    "indices = [0,2,4]\n",
    "print(arr[indices]) # Select elements at index 0,2,4\n",
    "\n",
    "# Modifying elements using fancy indexing\n",
    "arr[indices] = [100,300,500] # elements at indices 0,2,4 are changed into 100,300,500\n",
    "print(arr) # Updated array"
   ],
   "id": "ae4f55620b6a7b7d",
   "outputs": [
    {
     "name": "stdout",
     "output_type": "stream",
     "text": [
      "[40 50 60]\n",
      "[20 40 60]\n",
      "[10 30 50]\n",
      "[100  20 300  40 500  60]\n"
     ]
    }
   ],
   "execution_count": 6
  },
  {
   "metadata": {},
   "cell_type": "markdown",
   "source": "**Reshaping and Resizing Arrays**",
   "id": "1dab63487e3e194b"
  },
  {
   "metadata": {
    "ExecuteTime": {
     "end_time": "2025-02-05T13:17:15.024627Z",
     "start_time": "2025-02-05T13:17:15.015514Z"
    }
   },
   "cell_type": "code",
   "source": [
    "# Creating a 1D array\n",
    "arr = np.arange(1,13) # Array from 1 to 12\n",
    "print(\"Original Array:\\n\", arr)\n",
    "\n",
    "# Reshaping (changing shape without modifying data)\n",
    "reshaped = arr.reshape(3,4) # Convert 1D array to 3x4 matrix\n",
    "print(\"\\nReshaped (3x4) Array:\\n\", reshaped)\n",
    "\n",
    "# Flattening (converting back to 1D)\n",
    "flattened = reshaped.flatten()\n",
    "print(\"\\nFlattened Array:\\n\", flattened)\n",
    "\n",
    "# Resizing (modifies the original array)\n",
    "arr.resize(2,6) # changes shape permanently\n",
    "print(\"\\nResized (2,6) Array:\\n\", arr)\n",
    "\n",
    "# Transposing (swapping rows and columns)\n",
    "transposed = reshaped.T # or np.transpose(reshaped)\n",
    "print(\"Transposed Array:\\n\", transposed)\n"
   ],
   "id": "1c264ae366a1e97",
   "outputs": [
    {
     "name": "stdout",
     "output_type": "stream",
     "text": [
      "Original Array:\n",
      " [ 1  2  3  4  5  6  7  8  9 10 11 12]\n",
      "\n",
      "Reshaped (3x4) Array:\n",
      " [[ 1  2  3  4]\n",
      " [ 5  6  7  8]\n",
      " [ 9 10 11 12]]\n",
      "\n",
      "Flattened Array:\n",
      " [ 1  2  3  4  5  6  7  8  9 10 11 12]\n",
      "\n",
      "Resized (2,6) Array:\n",
      " [[ 1  2  3  4  5  6]\n",
      " [ 7  8  9 10 11 12]]\n",
      "Transposed Array:\n",
      " [[ 1  5  9]\n",
      " [ 2  6 10]\n",
      " [ 3  7 11]\n",
      " [ 4  8 12]]\n"
     ]
    }
   ],
   "execution_count": 14
  },
  {
   "metadata": {},
   "cell_type": "markdown",
   "source": [
    "**Stacking and Splitting Arrays**\n",
    "\n",
    "*Stacking(combining arrays)*"
   ],
   "id": "20139b043a702569"
  },
  {
   "metadata": {
    "ExecuteTime": {
     "end_time": "2025-02-05T13:29:36.645143Z",
     "start_time": "2025-02-05T13:29:36.623198Z"
    }
   },
   "cell_type": "code",
   "source": [
    "# Creating two arrays\n",
    "a = np.array([[1,2],[3,4]])\n",
    "b = np.array([[5,6],[7,8]])\n",
    "\n",
    "# Vertical Stacking (Row-wise stacking)\n",
    "v_stack = np.vstack((a,b))\n",
    "print(\"\\nVertically Stacked:\\n\",v_stack)\n",
    "\n",
    "# Horizontal Stacking (Column-wise stacking)\n",
    "h_stack = np.hstack((a,b))\n",
    "print(\"\\nHorizontally stacked:\\n\",h_stack)\n",
    "\n",
    "# Depth Stacking (Stacking along a new axis)\n",
    "d_stack = np.dstack((a,b))\n",
    "print(\"\\nDepth stacked:\\n\",d_stack)"
   ],
   "id": "8157129509808848",
   "outputs": [
    {
     "name": "stdout",
     "output_type": "stream",
     "text": [
      "\n",
      "Vertically Stacked:\n",
      " [[1 2]\n",
      " [3 4]\n",
      " [5 6]\n",
      " [7 8]]\n",
      "\n",
      "Horizontally stacked:\n",
      " [[1 2 5 6]\n",
      " [3 4 7 8]]\n",
      "\n",
      "Depth stacked:\n",
      " [[[1 5]\n",
      "  [2 6]]\n",
      "\n",
      " [[3 7]\n",
      "  [4 8]]]\n"
     ]
    }
   ],
   "execution_count": 19
  },
  {
   "metadata": {},
   "cell_type": "markdown",
   "source": "*Splitting(Dividing Arrays)*",
   "id": "9a64cf3cc1301894"
  },
  {
   "metadata": {
    "ExecuteTime": {
     "end_time": "2025-02-05T13:43:42.473151Z",
     "start_time": "2025-02-05T13:43:42.456414Z"
    }
   },
   "cell_type": "code",
   "source": [
    "# Splitting an array into multiple smaller arrays\n",
    "arr = np.arange(1,10).reshape(3,3) # 3x3 matrix with 1 to 9 numbers as element\n",
    "print(\"\\nOriginal Array:\\n\",arr)\n",
    "\n",
    "# Vertical Split\n",
    "v_split = np.split(arr,3) # split into 3 row wise sub-arrays\n",
    "print(\"\\nVertically split:\\n\",v_split)\n",
    "\n",
    "# Horizontal split\n",
    "h_split = np.hsplit(arr,3)\n",
    "print(\"\\nHorizontally split:\\n\",h_split)"
   ],
   "id": "f9d7424c43cffdf3",
   "outputs": [
    {
     "name": "stdout",
     "output_type": "stream",
     "text": [
      "\n",
      "Original Array:\n",
      " [[1 2 3]\n",
      " [4 5 6]\n",
      " [7 8 9]]\n",
      "\n",
      "Vertically split:\n",
      " [array([[1, 2, 3]]), array([[4, 5, 6]]), array([[7, 8, 9]])]\n",
      "\n",
      "Horizontally split:\n",
      " [array([[1],\n",
      "       [4],\n",
      "       [7]]), array([[2],\n",
      "       [5],\n",
      "       [8]]), array([[3],\n",
      "       [6],\n",
      "       [9]])]\n"
     ]
    }
   ],
   "execution_count": 25
  },
  {
   "metadata": {},
   "cell_type": "markdown",
   "source": [
    "**Broadcasting and Vectorization**\n",
    "\n",
    "*Broadcasting*Broadcasting allows NumPy to perform element-wise operations on arrays of different shapes."
   ],
   "id": "9b43ed5c21b084b4"
  },
  {
   "metadata": {
    "ExecuteTime": {
     "end_time": "2025-02-05T14:15:11.825857Z",
     "start_time": "2025-02-05T14:15:11.815486Z"
    }
   },
   "cell_type": "code",
   "source": [
    "arr = np.array([[1,2,3],[4,5,6],[7,8,9]])\n",
    "print(arr)\n",
    "\n",
    "# Broadcasting with a scaler(adding 10 to each element)\n",
    "result1 = arr + 10\n",
    "print(\"\\n Adding 10 to each element:\\n\", result1)\n",
    "\n",
    "# Broadcasting with a 1D array\n",
    "row_vector = np.array([1, 2, 3])\n",
    "result2 = arr + row_vector\n",
    "print(\"\\nAdding row vector to each row:\\n\", result2)\n",
    "\n",
    "# Broadcasting with a column vector\n",
    "col_vector = np.array(([1],[2],[3]))\n",
    "result3 = arr + col_vector\n",
    "print(\"\\nadding column vector to each row:\\n\",result3)"
   ],
   "id": "ebc32764a6a09d5d",
   "outputs": [
    {
     "name": "stdout",
     "output_type": "stream",
     "text": [
      "[[1 2 3]\n",
      " [4 5 6]\n",
      " [7 8 9]]\n",
      "\n",
      " Adding 10 to each element:\n",
      " [[11 12 13]\n",
      " [14 15 16]\n",
      " [17 18 19]]\n",
      "\n",
      "Adding row vector to each row:\n",
      " [[ 2  4  6]\n",
      " [ 5  7  9]\n",
      " [ 8 10 12]]\n",
      "\n",
      "adding column vector to each row:\n",
      " [[ 2  3  4]\n",
      " [ 6  7  8]\n",
      " [10 11 12]]\n"
     ]
    }
   ],
   "execution_count": 31
  },
  {
   "metadata": {},
   "cell_type": "markdown",
   "source": [
    "*Vectorization*\n",
    "\n",
    "Vectorization speeds up operations by applying them to entire arrays instead of using loops."
   ],
   "id": "da3aceb68a8c0c53"
  },
  {
   "metadata": {
    "ExecuteTime": {
     "end_time": "2025-02-05T14:32:01.961385Z",
     "start_time": "2025-02-05T14:32:01.934572Z"
    }
   },
   "cell_type": "code",
   "source": [
    "#Using loops (slow)\n",
    "arr = np.arange(1,6)\n",
    "squared_loops = [x**2 for x in arr]\n",
    "print(\"Squared using loops: \", squared_loops)\n",
    "\n",
    "# using vectorized operations (fast)\n",
    "squared_vectorized = arr**2\n",
    "print(\"Squared using vectorization: \", squared_vectorized)\n",
    "\n",
    "# Another Example : multiplication without loops\n",
    "a = np.array([1,2,3,4,5])\n",
    "b = np.array([10,20,30,40,50])\n",
    "\n",
    "# without vectorization (loop based)\n",
    "product_loop = [a[i] * b[i] for i in range(len(a))]\n",
    "print(\"Multiplication using loops: \", product_loop)\n",
    "\n",
    "# with vectorization\n",
    "product_vectorized = a * b\n",
    "print(\"Product using vectorization: \", product_vectorized)"
   ],
   "id": "9a324f30af31d7ae",
   "outputs": [
    {
     "name": "stdout",
     "output_type": "stream",
     "text": [
      "Squared using loops:  [np.int64(1), np.int64(4), np.int64(9), np.int64(16), np.int64(25)]\n",
      "Squared using vectorization:  [ 1  4  9 16 25]\n",
      "Multiplication using loops:  [np.int64(10), np.int64(40), np.int64(90), np.int64(160), np.int64(250)]\n",
      "Product using vectorization:  [ 10  40  90 160 250]\n"
     ]
    }
   ],
   "execution_count": 35
  },
  {
   "metadata": {},
   "cell_type": "markdown",
   "source": [
    "**Fancy Indexing and Boolean Masking**\n",
    "\n",
    "*Fancy Indexing*\n",
    "\n",
    "Fancy indexing allows selecting multiple elements using index arrays."
   ],
   "id": "145e9a5d35b632fd"
  },
  {
   "metadata": {
    "ExecuteTime": {
     "end_time": "2025-02-05T14:47:00.488189Z",
     "start_time": "2025-02-05T14:47:00.477167Z"
    }
   },
   "cell_type": "code",
   "source": [
    "arr = np.array([1,2,3,4,5,6,7,8,9])\n",
    "indices = [1,3,5,7] # selecting elements at these positions\n",
    "\n",
    "selected = arr[indices]\n",
    "print(\"Selected elements using fancy indexing: \", selected)\n",
    "\n",
    "# Fancy indexing in a 2D array\n",
    "mat = np.array([[10,20,30],\n",
    "                [40,50,60],\n",
    "                [70,80,90]])\n",
    "row_indices = [0,2] # selecting first and last rows\n",
    "col_indices = [1,2] # selecting last two columns\n",
    "\n",
    "row = mat[row_indices,:]\n",
    "print(\"\\nselected rows using fancy indexing:\\n \", row)\n",
    "\n",
    "column = mat[:, col_indices]\n",
    "print(\"\\nselected columns using fancy indexing:\\n \", column)"
   ],
   "id": "5f66fdc8dcedc52a",
   "outputs": [
    {
     "name": "stdout",
     "output_type": "stream",
     "text": [
      "Selected elements using fancy indexing:  [2 4 6 8]\n",
      "\n",
      "selected rows using fancy indexing:\n",
      "  [[10 20 30]\n",
      " [70 80 90]]\n",
      "\n",
      "selected columns using fancy indexing:\n",
      "  [[20 30]\n",
      " [50 60]\n",
      " [80 90]]\n"
     ]
    }
   ],
   "execution_count": 38
  },
  {
   "metadata": {},
   "cell_type": "markdown",
   "source": [
    "*Boolean masking*\n",
    "\n",
    "Boolean masking is used to filter elements based on conditions"
   ],
   "id": "343aff53381e29e0"
  },
  {
   "metadata": {
    "ExecuteTime": {
     "end_time": "2025-02-05T14:59:49.539558Z",
     "start_time": "2025-02-05T14:59:49.520676Z"
    }
   },
   "cell_type": "code",
   "source": [
    "arr = np.array([10, 25, 30, 45, 50, 65, 70])\n",
    "\n",
    "# Applying a condition (filter elements greater than 30)\n",
    "mask = arr > 30\n",
    "filtered = arr[mask]\n",
    "\n",
    "print(\"Boolean mask: \", mask)\n",
    "print(\"\\n filtered elements (greater than 30): \", filtered)\n",
    "\n",
    "# Boolean masking on a 2D array\n",
    "mat = np.array([[5,15,25],\n",
    "                [35,45,55],\n",
    "                [65,75,85]])\n",
    "\n",
    "mask = mat > 30\n",
    "filtered = mat[mask]\n",
    "\n",
    "print(\"\\nBoolean mask: \", mask)\n",
    "print(\"\\n filtered elements from 2d array(greater than 30):\\n \", filtered)"
   ],
   "id": "a81b77ef2dd4be65",
   "outputs": [
    {
     "name": "stdout",
     "output_type": "stream",
     "text": [
      "Boolean mask:  [False False False  True  True  True  True]\n",
      "\n",
      " filtered elements (greater than 30):  [45 50 65 70]\n",
      "\n",
      "Boolean mask:  [[False False False]\n",
      " [ True  True  True]\n",
      " [ True  True  True]]\n",
      "\n",
      " filtered elements from 2d array(greater than 30):\n",
      "  [35 45 55 65 75 85]\n"
     ]
    }
   ],
   "execution_count": 42
  },
  {
   "metadata": {},
   "cell_type": "markdown",
   "source": [
    "**Copying vs. views**\n",
    "\n",
    "*Views (shallow Copy)*\n",
    "\n",
    "A view is a shallow copy of the original array, meaning changes in the view affect the original array."
   ],
   "id": "b97dd57390390b1d"
  },
  {
   "metadata": {
    "ExecuteTime": {
     "end_time": "2025-02-05T15:07:34.482142Z",
     "start_time": "2025-02-05T15:07:34.471903Z"
    }
   },
   "cell_type": "code",
   "source": [
    "arr = np.array([1, 2, 3, 4, 5])\n",
    "view_arr = arr[:3] # creating a view\n",
    "\n",
    "print(\"Original array:\\n \", arr)\n",
    "print(\"\\n View Array:\\n \", view_arr)\n",
    "\n",
    "# Modifying the view\n",
    "view_arr[0] = 100\n",
    "print(\"\\nAfter modifying the view array:\")\n",
    "print(\"original array:\",arr) # Original array changes\n",
    "print(\"view array:\",view_arr)"
   ],
   "id": "71f3b436a0859673",
   "outputs": [
    {
     "name": "stdout",
     "output_type": "stream",
     "text": [
      "Original array:\n",
      "  [1 2 3 4 5]\n",
      "\n",
      " View Array:\n",
      "  [1 2 3]\n",
      "\n",
      "After modifying the view array:\n",
      "original array: [100   2   3   4   5]\n",
      "view array: [100   2   3]\n"
     ]
    }
   ],
   "execution_count": 44
  },
  {
   "metadata": {},
   "cell_type": "markdown",
   "source": [
    "*Copy (Deep Copy)*\n",
    "\n",
    "A copy creates a completely independent array, so changes do not affect the original array."
   ],
   "id": "8580f4eae4256e9"
  },
  {
   "metadata": {
    "ExecuteTime": {
     "end_time": "2025-02-05T15:14:25.223167Z",
     "start_time": "2025-02-05T15:14:25.198291Z"
    }
   },
   "cell_type": "code",
   "source": [
    "copy_arr = arr.copy()\n",
    "\n",
    "print(\"\\nOriginal array before modification: \", arr)\n",
    "print(\"copied array before modification: \", copy_arr)\n",
    "\n",
    "# Modifying the copy\n",
    "copy_arr[0] = 999\n",
    "print(\"\\nAfter modifying array: \")\n",
    "print(\"original array: \",arr) # original array remains unchanged\n",
    "print(\"copied array: \", copy_arr)"
   ],
   "id": "5164a8266b540fa",
   "outputs": [
    {
     "name": "stdout",
     "output_type": "stream",
     "text": [
      "\n",
      "Original array before modification:  [100   2   3   4   5]\n",
      "copied array before modification:  [100   2   3   4   5]\n",
      "\n",
      "After modifying array: \n",
      "original array:  [100   2   3   4   5]\n",
      "copied array:  [999   2   3   4   5]\n"
     ]
    }
   ],
   "execution_count": 45
  }
 ],
 "metadata": {
  "kernelspec": {
   "display_name": "Python 3",
   "language": "python",
   "name": "python3"
  },
  "language_info": {
   "codemirror_mode": {
    "name": "ipython",
    "version": 2
   },
   "file_extension": ".py",
   "mimetype": "text/x-python",
   "name": "python",
   "nbconvert_exporter": "python",
   "pygments_lexer": "ipython2",
   "version": "2.7.6"
  }
 },
 "nbformat": 4,
 "nbformat_minor": 5
}
